{
 "cells": [
  {
   "cell_type": "code",
   "execution_count": 5,
   "metadata": {},
   "outputs": [
    {
     "name": "stdout",
     "output_type": "stream",
     "text": [
      "15.452223539352417 seconds\n"
     ]
    }
   ],
   "source": [
    "from urllib.request import urlopen\n",
    "from bs4 import BeautifulSoup\n",
    "import pandas as pd\n",
    "# Find string between two substrings\n",
    "# https://stackoverflow.com/questions/3368969/find-string-between-two-substrings\n",
    "import re\n",
    "import time\n",
    "\n",
    "start_time = time.time()\n",
    "\n",
    "html = urlopen(\"http://www.chemfaces.com/sitemap.xml\")\n",
    "chemfaces = BeautifulSoup(html)\n",
    "\n",
    "loc_list = []\n",
    "loc = chemfaces.findAll(\"loc\")\n",
    "for l in loc:\n",
    "    loc_list.append(l.get_text())\n",
    "\n",
    "natural = [x for x in loc_list if 'natural' in x]\n",
    "\n",
    "# Initializing Multiple Lists/Line\n",
    "# https://stackoverflow.com/questions/2402646/python-initializing-multiple-lists-line\n",
    "t, cat, cas, p, s, d = ([] for i in range(6))\n",
    "\n",
    "for i in natural:\n",
    "    html = urlopen(i)\n",
    "    content = BeautifulSoup(html)\n",
    "    try:\n",
    "        title = content.find(\"div\", {\"class\": \"pi_title\"})\n",
    "        title_text = title.get_text()\n",
    "        cfn = content.find(\"script\", {\"type\":\"text/javascript\"}).get_text()\n",
    "        result_cat = re.search('CFN(.*).html', cfn)\n",
    "        cat.append(\"CFN\" + result_cat.group(1))\n",
    "        c = content.find(\"td\", {\"width\": \"224\"}).get_text()\n",
    "        source = content.find(\"td\", {\"class\":\"p_c_tbl_2\"}, {\"width\":\"1040\"}).get_text()\n",
    "        result_p = re.search('The (.*) of', source)\n",
    "        result_s = re.search('of (.*)', source)\n",
    "        p.append(result_p.group(1))\n",
    "        s.append(result_s.group(1))\n",
    "        description = content.find(\"td\", {\"class\": \"bd_tbl_2\"}).get_text()\n",
    "    except AttributeError as e:\n",
    "        t.append(\"None\")\n",
    "        cat.append(\"None\")\n",
    "        cas.append(\"None\")\n",
    "        p.append(\"None\")\n",
    "        s.append(\"None\")\n",
    "        d.append(\"None\")\n",
    "    else:\n",
    "        t.append(title_text)\n",
    "        cas.append(c)\n",
    "        d.append(description)\n",
    "\n",
    "# Remove characters\n",
    "# https://stackoverflow.com/questions/8282553/removing-character-in-list-of-strings\n",
    "T = [i.strip('\\n') for i in t]\n",
    "t = pd.Series(T, name='Name')\n",
    "cas = pd.Series(cas, name='CAS')\n",
    "cat = pd.Series(cat, name='Catalog No.')\n",
    "p = pd.Series(p, name='Part')\n",
    "s = pd.Series(s, name='Source')\n",
    "d = pd.Series(d, name='Description')\n",
    "total = pd.concat([t, cat, cas, p, s, d], axis=1)\n",
    "\n",
    "total.to_excel(\"Natural.xlsx\")\n",
    "\n",
    "print(\"%s seconds\" % (time.time() - start_time))"
   ]
  }
 ],
 "metadata": {
  "kernelspec": {
   "display_name": "Python 3",
   "language": "python",
   "name": "python3"
  },
  "language_info": {
   "codemirror_mode": {
    "name": "ipython",
    "version": 3
   },
   "file_extension": ".py",
   "mimetype": "text/x-python",
   "name": "python",
   "nbconvert_exporter": "python",
   "pygments_lexer": "ipython3",
   "version": "3.7.4"
  }
 },
 "nbformat": 4,
 "nbformat_minor": 2
}
